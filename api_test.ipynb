{
 "cells": [
  {
   "cell_type": "code",
   "execution_count": 2,
   "metadata": {},
   "outputs": [],
   "source": [
    "import json\n",
    "import requests\n",
    "from PIL import Image\n",
    "\n",
    "url = 'http://0.0.0.0:0000/txt2img_api/'\n",
    "\n",
    "data = {'prompt': 'winter', \n",
    "        'negative_prompt': '',\n",
    "        'seed': 44,\n",
    "        'height': 512,\n",
    "        'width': 512}\n",
    "\n",
    "res = requests.post(url, json=data)\n",
    "res_js = res.json()\n",
    "\n",
    "# # data_js = json.dumps(data)\n",
    "# # res = requests.post(url, data=data_js)\n",
    "# # res_js = json.loads(res.text)\n",
    "\n",
    "# Image.frombytes(mode='RGB', size=(512, 512), data=res_js['image_bytes'].encode('ascii'))"
   ]
  },
  {
   "cell_type": "code",
   "execution_count": 3,
   "metadata": {},
   "outputs": [
    {
     "data": {
      "text/plain": [
       "{'uuid': '1f4ece8e-bd95-4b21-86c2-fa9604c4bea1',\n",
       " 'datetime': '221027_1727',\n",
       " 'prompt': 'winter',\n",
       " 'all_prompts': ['winter', 'winter', 'winter', 'winter'],\n",
       " 'negative_prompt': '',\n",
       " 'seed': 44,\n",
       " 'all_seeds': [44, 45, 46, 47],\n",
       " 'subseed': 3858277349,\n",
       " 'all_subseeds': [3858277349, 3858277350, 3858277351, 3858277352],\n",
       " 'subseed_strength': 0,\n",
       " 'width': 512,\n",
       " 'height': 512,\n",
       " 'sampler_index': 0,\n",
       " 'sampler': 'Euler a',\n",
       " 'cfg_scale': 7.0,\n",
       " 'steps': 20,\n",
       " 'batch_size': 4,\n",
       " 'restore_faces': False,\n",
       " 'face_restoration_model': None,\n",
       " 'sd_model_hash': '7460a6fa',\n",
       " 'seed_resize_from_w': 0,\n",
       " 'seed_resize_from_h': 0,\n",
       " 'denoising_strength': None,\n",
       " 'extra_generation_params': {},\n",
       " 'index_of_first_image': 1}"
      ]
     },
     "execution_count": 3,
     "metadata": {},
     "output_type": "execute_result"
    }
   ],
   "source": [
    "res_js"
   ]
  },
  {
   "cell_type": "code",
   "execution_count": 153,
   "metadata": {},
   "outputs": [
    {
     "data": {
      "text/plain": [
       "'3f1d6d3f-62e2-4cef-a8bc-6d87ade2c257'"
      ]
     },
     "execution_count": 153,
     "metadata": {},
     "output_type": "execute_result"
    }
   ],
   "source": [
    "test[0]['id']"
   ]
  }
 ],
 "metadata": {
  "kernelspec": {
   "display_name": "Python 3.9.6 64-bit",
   "language": "python",
   "name": "python3"
  },
  "language_info": {
   "codemirror_mode": {
    "name": "ipython",
    "version": 3
   },
   "file_extension": ".py",
   "mimetype": "text/x-python",
   "name": "python",
   "nbconvert_exporter": "python",
   "pygments_lexer": "ipython3",
   "version": "3.9.6"
  },
  "orig_nbformat": 4,
  "vscode": {
   "interpreter": {
    "hash": "52634da84371cba311ea128a5ea7cdc41ff074b781779e754b270ff9f8153cee"
   }
  }
 },
 "nbformat": 4,
 "nbformat_minor": 2
}
